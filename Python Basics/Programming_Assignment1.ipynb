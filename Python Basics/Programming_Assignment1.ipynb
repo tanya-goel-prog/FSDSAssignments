{
 "cells": [
  {
   "cell_type": "markdown",
   "id": "54edc2c5",
   "metadata": {},
   "source": [
    "**Write a Python program to print &quot;Hello Python&quot;?**"
   ]
  },
  {
   "cell_type": "code",
   "execution_count": 1,
   "id": "9ba3fc47",
   "metadata": {},
   "outputs": [
    {
     "name": "stdout",
     "output_type": "stream",
     "text": [
      "Hello Python\n"
     ]
    }
   ],
   "source": [
    "print(\"Hello Python\")"
   ]
  },
  {
   "cell_type": "markdown",
   "id": "9c7a7f2e",
   "metadata": {},
   "source": [
    "**Write a Python program to do arithmetical operations addition and division.?**"
   ]
  },
  {
   "cell_type": "code",
   "execution_count": 3,
   "id": "aebf50e3",
   "metadata": {},
   "outputs": [
    {
     "name": "stdout",
     "output_type": "stream",
     "text": [
      "The sum is: 8\n",
      "The division result is: 5.0\n"
     ]
    }
   ],
   "source": [
    "# Addition\n",
    "num1 = 5\n",
    "num2 = 3\n",
    "res1 = num1+num2\n",
    "print(\"The sum is:\", res1)\n",
    "\n",
    "# Division\n",
    "num3 = 10\n",
    "num4 = 2\n",
    "res2 = num3/num4\n",
    "print(\"The division result is:\", res2)\n"
   ]
  },
  {
   "cell_type": "markdown",
   "id": "848ccc56",
   "metadata": {},
   "source": [
    "**Write a Python program to find the area of a triangle?**"
   ]
  },
  {
   "cell_type": "code",
   "execution_count": 4,
   "id": "5af99a68",
   "metadata": {},
   "outputs": [
    {
     "name": "stdout",
     "output_type": "stream",
     "text": [
      "Enter the base length of the triangle: 3\n",
      "Enter the height of the triangle: 4\n",
      "The area of the triangle is: 6.0\n"
     ]
    }
   ],
   "source": [
    "base = float(input(\"Enter the base length of the triangle: \"))\n",
    "height = float(input(\"Enter the height of the triangle: \"))\n",
    "area = (base * height) / 2\n",
    "print(\"The area of the triangle is:\", area)"
   ]
  },
  {
   "cell_type": "markdown",
   "id": "632698cc",
   "metadata": {},
   "source": [
    "**Write a Python program to swap two variables?**"
   ]
  },
  {
   "cell_type": "code",
   "execution_count": 6,
   "id": "fa3b9bb6",
   "metadata": {},
   "outputs": [
    {
     "name": "stdout",
     "output_type": "stream",
     "text": [
      "Before swapping:\n",
      "x = 5\n",
      "y = 10\n",
      "After swapping:\n",
      "x = 10\n",
      "y = 5\n"
     ]
    }
   ],
   "source": [
    "def swap (num1: int, num2: int):\n",
    "    print(\"Before swapping:\")\n",
    "    print(\"x =\", num1)\n",
    "    print(\"y =\", num2)\n",
    "    # Swapping variables\n",
    "    temp = num1\n",
    "    num1 = num2\n",
    "    num2 = temp\n",
    "\n",
    "    print(\"After swapping:\")\n",
    "    print(\"x =\", num1)\n",
    "    print(\"y =\", num2)\n",
    "    \n",
    "# Initial values\n",
    "x = 5\n",
    "y = 10\n",
    "swap(x,y)\n"
   ]
  },
  {
   "cell_type": "markdown",
   "id": "e5465096",
   "metadata": {},
   "source": [
    "**Write a Python program to generate a random number?**"
   ]
  },
  {
   "cell_type": "code",
   "execution_count": 7,
   "id": "33546bc5",
   "metadata": {},
   "outputs": [
    {
     "name": "stdout",
     "output_type": "stream",
     "text": [
      "Random number: 49\n"
     ]
    }
   ],
   "source": [
    "import random\n",
    "random_number = random.randint(1, 100)\n",
    "print(\"Random number:\", random_number)"
   ]
  },
  {
   "cell_type": "code",
   "execution_count": null,
   "id": "9cd7c8eb",
   "metadata": {},
   "outputs": [],
   "source": []
  }
 ],
 "metadata": {
  "kernelspec": {
   "display_name": "Python 3 (ipykernel)",
   "language": "python",
   "name": "python3"
  },
  "language_info": {
   "codemirror_mode": {
    "name": "ipython",
    "version": 3
   },
   "file_extension": ".py",
   "mimetype": "text/x-python",
   "name": "python",
   "nbconvert_exporter": "python",
   "pygments_lexer": "ipython3",
   "version": "3.9.12"
  }
 },
 "nbformat": 4,
 "nbformat_minor": 5
}
