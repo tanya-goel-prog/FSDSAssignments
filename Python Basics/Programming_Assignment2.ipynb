{
 "cells": [
  {
   "cell_type": "markdown",
   "id": "d950f290",
   "metadata": {},
   "source": [
    "**Write a Python program to convert kilometers to miles?**"
   ]
  },
  {
   "cell_type": "code",
   "execution_count": 1,
   "id": "1b4e1b0c",
   "metadata": {},
   "outputs": [
    {
     "name": "stdout",
     "output_type": "stream",
     "text": [
      "Enter distance in kilometers: 2.5\n",
      "Distance in miles: 1.5534275\n"
     ]
    }
   ],
   "source": [
    "def km_to_miles(kilometers):\n",
    "    miles = kilometers * 0.621371\n",
    "    return miles\n",
    "kilometers = float(input(\"Enter distance in kilometers: \"))\n",
    "converted_miles = km_to_miles(kilometers)\n",
    "print(\"Distance in miles:\", converted_miles)"
   ]
  },
  {
   "cell_type": "markdown",
   "id": "04521be9",
   "metadata": {},
   "source": [
    "**Write a Python program to convert Celsius to Fahrenheit?**"
   ]
  },
  {
   "cell_type": "code",
   "execution_count": 4,
   "id": "87ecda37",
   "metadata": {},
   "outputs": [
    {
     "name": "stdout",
     "output_type": "stream",
     "text": [
      "Enter temperature in Celsius: 36\n",
      "Temperature in Fahrenheit: 96.8\n"
     ]
    }
   ],
   "source": [
    "def ctf(celsius):\n",
    "    fahrenheit = (celsius * 9/5) + 32\n",
    "    return fahrenheit\n",
    "celsius = float(input(\"Enter temperature in Celsius: \"))\n",
    "fahrenheit = ctf(celsius)\n",
    "print(\"Temperature in Fahrenheit:\", fahrenheit)\n"
   ]
  },
  {
   "cell_type": "markdown",
   "id": "e3762c7e",
   "metadata": {},
   "source": [
    "**Write a Python program to display calendar?**"
   ]
  },
  {
   "cell_type": "code",
   "execution_count": 5,
   "id": "d375a00c",
   "metadata": {},
   "outputs": [
    {
     "name": "stdout",
     "output_type": "stream",
     "text": [
      "Enter the year: 2023\n",
      "Enter the month: 6\n",
      "     June 2023\n",
      "Mo Tu We Th Fr Sa Su\n",
      "          1  2  3  4\n",
      " 5  6  7  8  9 10 11\n",
      "12 13 14 15 16 17 18\n",
      "19 20 21 22 23 24 25\n",
      "26 27 28 29 30\n",
      "\n"
     ]
    }
   ],
   "source": [
    "import calendar\n",
    "year = int(input(\"Enter the year: \"))\n",
    "month = int(input(\"Enter the month: \"))\n",
    "cal = calendar.month(year, month)\n",
    "print(cal)"
   ]
  },
  {
   "cell_type": "markdown",
   "id": "7647a7f6",
   "metadata": {},
   "source": [
    "**Write a Python program to solve quadratic equation?**"
   ]
  },
  {
   "cell_type": "code",
   "execution_count": 8,
   "id": "dfffe19e",
   "metadata": {},
   "outputs": [
    {
     "name": "stdout",
     "output_type": "stream",
     "text": [
      "Enter the coefficient a: 1\n",
      "Enter the coefficient b: 4\n",
      "Enter the coefficient c: 4\n",
      "Root 1: -2.0\n",
      "Root 2: -2.0\n"
     ]
    }
   ],
   "source": [
    "import math\n",
    "def solve_quadratic(a, b, c):\n",
    "    # Calculate the discriminant\n",
    "    discriminant = b**2 - 4*a*c\n",
    "    if discriminant < 0:\n",
    "        return None\n",
    "    root1 = (-b + math.sqrt(discriminant)) / (2*a)\n",
    "    root2 = (-b - math.sqrt(discriminant)) / (2*a)\n",
    "    return root1, root2\n",
    "\n",
    "a = float(input(\"Enter the coefficient a: \"))\n",
    "b = float(input(\"Enter the coefficient b: \"))\n",
    "c = float(input(\"Enter the coefficient c: \"))\n",
    "roots = solve_quadratic(a, b, c)\n",
    "\n",
    "if roots is None:\n",
    "    print(\"The equation has no real roots.\")\n",
    "else:\n",
    "    root1, root2 = roots\n",
    "    print(\"Root 1:\", root1)\n",
    "    print(\"Root 2:\", root2)\n"
   ]
  },
  {
   "cell_type": "markdown",
   "id": "951a6edc",
   "metadata": {},
   "source": [
    "**Write a Python program to swap two variables without temp variable?**"
   ]
  },
  {
   "cell_type": "code",
   "execution_count": 9,
   "id": "86258514",
   "metadata": {},
   "outputs": [
    {
     "name": "stdout",
     "output_type": "stream",
     "text": [
      "Enter the value of x: 22\n",
      "Enter the value of y: 33\n",
      "Before swapping:\n",
      "x = 22\n",
      "y = 33\n",
      "After swapping:\n",
      "x = 33\n",
      "y = 22\n"
     ]
    }
   ],
   "source": [
    "def swap_variables(a, b):\n",
    "    a, b = b, a\n",
    "    return a, b\n",
    "\n",
    "x = input(\"Enter the value of x: \")\n",
    "y = input(\"Enter the value of y: \")\n",
    "\n",
    "print(\"Before swapping:\")\n",
    "print(\"x =\", x)\n",
    "print(\"y =\", y)\n",
    "x, y = swap_variables(x, y)\n",
    "\n",
    "print(\"After swapping:\")\n",
    "print(\"x =\", x)\n",
    "print(\"y =\", y)\n"
   ]
  },
  {
   "cell_type": "code",
   "execution_count": null,
   "id": "7974310e",
   "metadata": {},
   "outputs": [],
   "source": []
  }
 ],
 "metadata": {
  "kernelspec": {
   "display_name": "Python 3 (ipykernel)",
   "language": "python",
   "name": "python3"
  },
  "language_info": {
   "codemirror_mode": {
    "name": "ipython",
    "version": 3
   },
   "file_extension": ".py",
   "mimetype": "text/x-python",
   "name": "python",
   "nbconvert_exporter": "python",
   "pygments_lexer": "ipython3",
   "version": "3.9.12"
  }
 },
 "nbformat": 4,
 "nbformat_minor": 5
}
