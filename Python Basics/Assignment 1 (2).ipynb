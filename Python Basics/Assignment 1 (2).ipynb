{
 "cells": [
  {
   "cell_type": "markdown",
   "id": "837fbf21",
   "metadata": {},
   "source": [
    "**Q1** In the below elements which of them are values or an expression? eg:- values can be\n",
    "integer or string and expressions will be mathematical operators.\n",
    "1. \"*\"                Expression\n",
    "2. \"&#39;hello&#39;\"  Value\n",
    "3. \"-87.8\"            Value\n",
    "4. \"-\"                Expression\n",
    "5. \"/\"                Expression \n",
    "6. \"+\"                Expression\n",
    "7. \"6\"                Value"
   ]
  },
  {
   "cell_type": "markdown",
   "id": "10cac270",
   "metadata": {},
   "source": [
    "**Q2** What is the difference between string and variable?\n",
    " \n",
    "**Ans**: A string is a particular form of data that represents a series of characters, whereas a variable is a named storage location capable of holding various values, including strings. Strings are a distinct data type, whereas variables serve as containers for managing and accessing different types of data, which can include strings."
   ]
  },
  {
   "cell_type": "markdown",
   "id": "3fdfbbf8",
   "metadata": {},
   "source": [
    "**Q3** Describe three different data types.\n",
    "\n",
    "**Ans**: 1. Integer(int): The integer data type represents whole numbers without decimal points. It includes both positive and negative numbers, as well as zero.\n",
    "\n",
    "2. String (str): The string data type represents a sequence of characters. It is used to store and manipulate textual data, such as words, sentences, and even individual characters. Strings are typically enclosed in quotation marks (single or double). \n",
    "\n",
    "\n",
    "3. Boolean (bool): The boolean data type represents a logical value that can be either true or false. They are often the result of comparisons or logical operations. Boolean values are True and False."
   ]
  },
  {
   "cell_type": "markdown",
   "id": "5c1dfae5",
   "metadata": {},
   "source": [
    "**Q4** What is an expression made up of? What do all expressions do?\n",
    "\n",
    "**Ans**: Expressions are composed of values, operators, and function calls, and their purpose is to compute a value. They are used for assignments, decision-making, calculations, and generating values in programming."
   ]
  },
  {
   "cell_type": "markdown",
   "id": "ba7243cc",
   "metadata": {},
   "source": [
    "**Q5** This assignment statements, like spam = 10. What is the difference between an expression and a statement?\n",
    "\n",
    "**Ans**: Key differences between expressions and statements are:\n",
    "1. Expressions evaluate to a value, while statements perform actions or control the flow of execution.\n",
    "2. Expressions can be part of statements, but statements cannot be part of expressions.\n",
    "3. Expressions are used to compute values, while statements are used to execute actions or control the program's behavior."
   ]
  },
  {
   "cell_type": "markdown",
   "id": "e722df35",
   "metadata": {},
   "source": [
    "**Q6** After running the following code, what does the variable bacon contain?\n",
    "bacon = 22\n",
    "bacon + 1\n",
    "\n",
    "**Ans**: 22, as there is no assignment done to bacon variable after adding one to it"
   ]
  },
  {
   "cell_type": "markdown",
   "id": "cf76c41e",
   "metadata": {},
   "source": [
    "**Q7** What should the values of the following two terms be?\n",
    "&#39;spam&#39; + &#39;spamspam&#39; and \n",
    "&#39;spam&#39; * 3\n",
    "\n",
    "**Ans**: The answer would be 'spamspamspam' in both cases"
   ]
  },
  {
   "cell_type": "markdown",
   "id": "aa10bdfe",
   "metadata": {},
   "source": [
    "**Q8** Why is eggs a valid variable name while 100 is invalid?\n",
    "\n",
    "**Ans**: 'eggs' is a valid variable name because it starts with a letter and contains only letters. It follows the rules for naming variables. On the other hand, 100 is invalid as a variable name because it starts with a digit. Variable names must start with a letter or an underscore, not a digit."
   ]
  },
  {
   "cell_type": "markdown",
   "id": "08f35079",
   "metadata": {},
   "source": [
    "**Q9** What three functions can be used to get the integer, floating-point number, or string\n",
    "version of a value?\n",
    "\n",
    "**Ans**: int(value); str(value); float(value)"
   ]
  },
  {
   "cell_type": "markdown",
   "id": "c51e105c",
   "metadata": {},
   "source": [
    "**Q10** Why does this expression cause an error? How can you fix it?\n",
    "&#39;I have eaten &#39; + 99 + &#39; burritos.&#39;\n",
    "\n",
    "**Ans**: The given expression 'I have eaten ' + 99 + ' burritos.' causes an error because it attempts to concatenate a string ('I have eaten ') with an integer (99) directly. In Python, concatenation using the + operator requires both operands to be of the same type.\n",
    "To fix the error and concatenate the integer value with the string, you need to convert the integer to a string using the str() function.\n",
    "\n",
    "Corrected code:\n",
    "'I have eaten ' + str(99) + ' burritos.'\n"
   ]
  },
  {
   "cell_type": "code",
   "execution_count": null,
   "id": "ab76c6aa",
   "metadata": {},
   "outputs": [],
   "source": []
  }
 ],
 "metadata": {
  "kernelspec": {
   "display_name": "Python 3 (ipykernel)",
   "language": "python",
   "name": "python3"
  },
  "language_info": {
   "codemirror_mode": {
    "name": "ipython",
    "version": 3
   },
   "file_extension": ".py",
   "mimetype": "text/x-python",
   "name": "python",
   "nbconvert_exporter": "python",
   "pygments_lexer": "ipython3",
   "version": "3.9.12"
  }
 },
 "nbformat": 4,
 "nbformat_minor": 5
}
