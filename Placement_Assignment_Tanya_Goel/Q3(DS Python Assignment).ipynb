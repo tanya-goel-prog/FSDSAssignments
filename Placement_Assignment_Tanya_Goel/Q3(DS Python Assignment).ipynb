{
 "cells": [
  {
   "cell_type": "markdown",
   "id": "4e71283e",
   "metadata": {},
   "source": [
    "**Write a program, which would download the data from the provided link, and then read the data and convert\n",
    "that into properly structured data and return it in Excel format.\n",
    "Note - Write comments wherever necessary explaining the code written**\n",
    "\n",
    "Link: - https://raw.githubusercontent.com/Biuni/PokemonGO-Pokedex/master/pokedex.json"
   ]
  },
  {
   "cell_type": "code",
   "execution_count": 4,
   "id": "19074412",
   "metadata": {},
   "outputs": [
    {
     "name": "stdout",
     "output_type": "stream",
     "text": [
      "Data downloaded and converted to Excel successfully!\n"
     ]
    }
   ],
   "source": [
    "import requests\n",
    "import json\n",
    "import pandas as pd\n",
    "\n",
    "# Step 1: Download the data from the provided link\n",
    "url = \"https://raw.githubusercontent.com/Biuni/PokemonGO-Pokedex/master/pokedex.json\"\n",
    "response = requests.get(url)\n",
    "data = response.json()\n",
    "\n",
    "# Step 2: Parse the downloaded JSON data\n",
    "pokemon_list = data[\"pokemon\"]\n",
    "\n",
    "# Step 3: Convert the parsed data into a pandas DataFrame\n",
    "df = pd.DataFrame(pokemon_list)\n",
    "\n",
    "# Step 4: Save the DataFrame as an Excel file\n",
    "output_file = \"pokemon_data.xlsx\"\n",
    "df.to_excel(output_file, index=False)\n",
    "\n",
    "print(\"Data downloaded and converted to Excel successfully!\")"
   ]
  },
  {
   "cell_type": "code",
   "execution_count": null,
   "id": "bc944af6",
   "metadata": {},
   "outputs": [],
   "source": []
  }
 ],
 "metadata": {
  "kernelspec": {
   "display_name": "Python 3 (ipykernel)",
   "language": "python",
   "name": "python3"
  },
  "language_info": {
   "codemirror_mode": {
    "name": "ipython",
    "version": 3
   },
   "file_extension": ".py",
   "mimetype": "text/x-python",
   "name": "python",
   "nbconvert_exporter": "python",
   "pygments_lexer": "ipython3",
   "version": "3.9.12"
  }
 },
 "nbformat": 4,
 "nbformat_minor": 5
}
