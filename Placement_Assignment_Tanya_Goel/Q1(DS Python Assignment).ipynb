{
 "cells": [
  {
   "cell_type": "markdown",
   "id": "9610532b",
   "metadata": {},
   "source": [
    "**Question 1:** - Write a program that takes a string as input, and counts the frequency of each word in the string, there might be repeated characters in the string. Your task is to find the highest frequency and returns the length of the highest-frequency word.\n",
    "\n",
    "Note - You have to write at least 2 additional test cases in which your program will run successfully and provide an explanation for the same.\n",
    "\n",
    "Example input - string = “write write write all the number from from from 1 to 100” Example output - 5\n",
    "Explanation - From the given string we can note that the most frequent words are “write” and “from” and the maximum value of both the values is “write” and its corresponding length is 5\n"
   ]
  },
  {
   "cell_type": "code",
   "execution_count": 1,
   "id": "df7cf932",
   "metadata": {},
   "outputs": [],
   "source": [
    "def highestFrequencyWordLength(string):\n",
    "    word_count = {}  # Create an empty dictionary to store word frequencies\n",
    "    words = string.split()  # Split the input string into individual words\n",
    "\n",
    "    # Count the frequency of each word\n",
    "    for word in words:\n",
    "        if word in word_count:  # If the word is already in the dictionary\n",
    "            word_count[word] += 1  # Increment its frequency by 1\n",
    "        else:  # If the word is not in the dictionary\n",
    "            word_count[word] = 1  # Add it to the dictionary with a frequency of 1\n",
    "\n",
    "    max_frequency = max(word_count.values())  # Find the maximum frequency among all word frequencies\n",
    "    # Create a list of words with the maximum frequency\n",
    "    max_frequency_words = [word for word, count in word_count.items() if count == max_frequency]\n",
    "    # Find the length of the longest word among the words with the maximum frequency\n",
    "    max_word_length = len(max(max_frequency_words, key=len))\n",
    "\n",
    "    return max_word_length  # Return the length of the highest-frequency word\n"
   ]
  },
  {
   "cell_type": "code",
   "execution_count": 6,
   "id": "f7eb7e66",
   "metadata": {},
   "outputs": [
    {
     "data": {
      "text/plain": [
       "6"
      ]
     },
     "execution_count": 6,
     "metadata": {},
     "output_type": "execute_result"
    }
   ],
   "source": [
    "highestFrequencyWordLength(\"Helloo Helloo Helloo This Is Me. I am tanya tanya tanya (echooo)\")"
   ]
  },
  {
   "cell_type": "markdown",
   "id": "7c58a4b3",
   "metadata": {},
   "source": [
    "**EXPLAINATION** From the given string we can note that the most frequent words are “Helloo” and “tanya” and \n",
    "the maximum length of both the values is of word “Helloo” and its corresponding length is 6"
   ]
  },
  {
   "cell_type": "code",
   "execution_count": 8,
   "id": "fa9ced9b",
   "metadata": {},
   "outputs": [
    {
     "data": {
      "text/plain": [
       "5"
      ]
     },
     "execution_count": 8,
     "metadata": {},
     "output_type": "execute_result"
    }
   ],
   "source": [
    "highestFrequencyWordLength(\"an apple a day keep keep the doctor awayy awayy awayyy\")"
   ]
  },
  {
   "cell_type": "markdown",
   "id": "80ce1cd1",
   "metadata": {},
   "source": [
    "**EXPLAINATION** From the given string we can note that the most frequent words are “keep” and “awayy” and \n",
    "the maximum length of both the values is of word “awayy” and its corresponding length is 5"
   ]
  }
 ],
 "metadata": {
  "kernelspec": {
   "display_name": "Python 3 (ipykernel)",
   "language": "python",
   "name": "python3"
  },
  "language_info": {
   "codemirror_mode": {
    "name": "ipython",
    "version": 3
   },
   "file_extension": ".py",
   "mimetype": "text/x-python",
   "name": "python",
   "nbconvert_exporter": "python",
   "pygments_lexer": "ipython3",
   "version": "3.9.12"
  }
 },
 "nbformat": 4,
 "nbformat_minor": 5
}
