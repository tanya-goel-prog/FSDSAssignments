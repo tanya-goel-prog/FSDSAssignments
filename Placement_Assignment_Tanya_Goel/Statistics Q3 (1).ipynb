{
 "cells": [
  {
   "cell_type": "markdown",
   "id": "9f23381f",
   "metadata": {},
   "source": [
    "## Q3 ##\n",
    "Consider the ‘Blood Pressure Before’ and ‘Blood Pressure After’ columns from the\n",
    "data and calculate the following\n",
    "\n",
    "https://drive.google.com/file/d/1mCjtYHiX--mMUjicuaP2gH3k-SnFxt8Y/view?usp=share_\n",
    "\n",
    "a. Measure the dispersion in both and interpret the results.\n",
    "\n",
    "b. Calculate mean and 5% confidence interval and plot it in a graph\n",
    "\n",
    "c. Calculate the Mean absolute deviation and Standard deviation and interpret\n",
    "the results.\n",
    "\n",
    "d. Calculate the correlation coefficient and check the significance of it at 1% level\n",
    "of significance.\n"
   ]
  },
  {
   "cell_type": "markdown",
   "id": "3f1833d2",
   "metadata": {},
   "source": [
    "### (a.) ###"
   ]
  },
  {
   "cell_type": "code",
   "execution_count": 1,
   "id": "de0a408a",
   "metadata": {},
   "outputs": [],
   "source": [
    "import pandas as pd"
   ]
  },
  {
   "cell_type": "code",
   "execution_count": 13,
   "id": "a2541406",
   "metadata": {},
   "outputs": [
    {
     "data": {
      "text/html": [
       "<div>\n",
       "<style scoped>\n",
       "    .dataframe tbody tr th:only-of-type {\n",
       "        vertical-align: middle;\n",
       "    }\n",
       "\n",
       "    .dataframe tbody tr th {\n",
       "        vertical-align: top;\n",
       "    }\n",
       "\n",
       "    .dataframe thead th {\n",
       "        text-align: right;\n",
       "    }\n",
       "</style>\n",
       "<table border=\"1\" class=\"dataframe\">\n",
       "  <thead>\n",
       "    <tr style=\"text-align: right;\">\n",
       "      <th></th>\n",
       "      <th>Patient ID</th>\n",
       "      <th>Blood Pressure Before (mmHg)</th>\n",
       "      <th>Blood Pressure After (mmHg)</th>\n",
       "    </tr>\n",
       "  </thead>\n",
       "  <tbody>\n",
       "    <tr>\n",
       "      <th>0</th>\n",
       "      <td>1</td>\n",
       "      <td>130</td>\n",
       "      <td>120</td>\n",
       "    </tr>\n",
       "    <tr>\n",
       "      <th>1</th>\n",
       "      <td>2</td>\n",
       "      <td>142</td>\n",
       "      <td>135</td>\n",
       "    </tr>\n",
       "    <tr>\n",
       "      <th>2</th>\n",
       "      <td>3</td>\n",
       "      <td>120</td>\n",
       "      <td>118</td>\n",
       "    </tr>\n",
       "    <tr>\n",
       "      <th>3</th>\n",
       "      <td>4</td>\n",
       "      <td>135</td>\n",
       "      <td>127</td>\n",
       "    </tr>\n",
       "    <tr>\n",
       "      <th>4</th>\n",
       "      <td>5</td>\n",
       "      <td>148</td>\n",
       "      <td>140</td>\n",
       "    </tr>\n",
       "    <tr>\n",
       "      <th>...</th>\n",
       "      <td>...</td>\n",
       "      <td>...</td>\n",
       "      <td>...</td>\n",
       "    </tr>\n",
       "    <tr>\n",
       "      <th>95</th>\n",
       "      <td>96</td>\n",
       "      <td>136</td>\n",
       "      <td>129</td>\n",
       "    </tr>\n",
       "    <tr>\n",
       "      <th>96</th>\n",
       "      <td>97</td>\n",
       "      <td>143</td>\n",
       "      <td>137</td>\n",
       "    </tr>\n",
       "    <tr>\n",
       "      <th>97</th>\n",
       "      <td>98</td>\n",
       "      <td>127</td>\n",
       "      <td>123</td>\n",
       "    </tr>\n",
       "    <tr>\n",
       "      <th>98</th>\n",
       "      <td>99</td>\n",
       "      <td>139</td>\n",
       "      <td>135</td>\n",
       "    </tr>\n",
       "    <tr>\n",
       "      <th>99</th>\n",
       "      <td>100</td>\n",
       "      <td>135</td>\n",
       "      <td>130</td>\n",
       "    </tr>\n",
       "  </tbody>\n",
       "</table>\n",
       "<p>100 rows × 3 columns</p>\n",
       "</div>"
      ],
      "text/plain": [
       "    Patient ID   Blood Pressure Before (mmHg)   Blood Pressure After (mmHg)\n",
       "0            1                            130                           120\n",
       "1            2                            142                           135\n",
       "2            3                            120                           118\n",
       "3            4                            135                           127\n",
       "4            5                            148                           140\n",
       "..         ...                            ...                           ...\n",
       "95          96                            136                           129\n",
       "96          97                            143                           137\n",
       "97          98                            127                           123\n",
       "98          99                            139                           135\n",
       "99         100                            135                           130\n",
       "\n",
       "[100 rows x 3 columns]"
      ]
     },
     "execution_count": 13,
     "metadata": {},
     "output_type": "execute_result"
    }
   ],
   "source": [
    "df = pd.read_csv(\"data.csv\")\n",
    "df"
   ]
  },
  {
   "cell_type": "code",
   "execution_count": 19,
   "id": "a9ca96d6",
   "metadata": {},
   "outputs": [],
   "source": [
    "# Calculate the range\n",
    "range_before = df[' Blood Pressure Before (mmHg)'].max() - df[' Blood Pressure Before (mmHg)'].min()\n",
    "range_after = df[' Blood Pressure After (mmHg)'].max() - df[' Blood Pressure After (mmHg)'].min()"
   ]
  },
  {
   "cell_type": "code",
   "execution_count": 20,
   "id": "a7a1f881",
   "metadata": {},
   "outputs": [],
   "source": [
    "# Calculate the interquartile range (IQR)\n",
    "q1_before = df[' Blood Pressure Before (mmHg)'].quantile(0.25)\n",
    "q3_before = df[' Blood Pressure Before (mmHg)'].quantile(0.75)\n",
    "iqr_before = q3_before - q1_before\n",
    "\n",
    "q1_after = df[' Blood Pressure After (mmHg)'].quantile(0.25)\n",
    "q3_after = df[' Blood Pressure After (mmHg)'].quantile(0.75)\n",
    "iqr_after = q3_after - q1_after"
   ]
  },
  {
   "cell_type": "code",
   "execution_count": 21,
   "id": "50162802",
   "metadata": {},
   "outputs": [],
   "source": [
    "# Calculate the standard deviation\n",
    "std_before = df[' Blood Pressure Before (mmHg)'].std()\n",
    "std_after = df[' Blood Pressure After (mmHg)'].std()"
   ]
  },
  {
   "cell_type": "code",
   "execution_count": 22,
   "id": "cbce9f5f",
   "metadata": {},
   "outputs": [],
   "source": [
    "# Calculate the variance\n",
    "var_before = df[' Blood Pressure Before (mmHg)'].var()\n",
    "var_after = df[' Blood Pressure After (mmHg)'].var()"
   ]
  },
  {
   "cell_type": "code",
   "execution_count": 23,
   "id": "4f634372",
   "metadata": {},
   "outputs": [
    {
     "name": "stdout",
     "output_type": "stream",
     "text": [
      "Range of Blood Pressure Before: 28\n",
      "Range of Blood Pressure After: 23\n",
      "IQR of Blood Pressure Before: 11.25\n",
      "IQR of Blood Pressure After: 12.0\n",
      "Standard Deviation - Blood Pressure Before: 6.598278012275075\n",
      "Standard Deviation - Blood Pressure After: 6.8880221025232276\n",
      "Variance - Blood Pressure Before: 43.53727272727271\n",
      "Variance - Blood Pressure After: 47.4448484848485\n"
     ]
    }
   ],
   "source": [
    "print(\"Range of Blood Pressure Before:\", range_before)\n",
    "print(\"Range of Blood Pressure After:\", range_after)\n",
    "print(\"IQR of Blood Pressure Before:\", iqr_before)\n",
    "print(\"IQR of Blood Pressure After:\", iqr_after)\n",
    "print(\"Standard Deviation of Blood Pressure Before:\", std_before)\n",
    "print(\"Standard Deviation of Blood Pressure After:\", std_after)\n",
    "print(\"Variance of Blood Pressure Before:\", var_before)\n",
    "print(\"Variance of Blood Pressure After:\", var_after)"
   ]
  },
  {
   "cell_type": "markdown",
   "id": "5185c41e",
   "metadata": {},
   "source": [
    "### (b.) ###"
   ]
  },
  {
   "cell_type": "code",
   "execution_count": 37,
   "id": "43e448dd",
   "metadata": {},
   "outputs": [
    {
     "name": "stdout",
     "output_type": "stream",
     "text": [
      "Mean of Blood Pressure Before:  133.91\n",
      "Standard deviation of Blood Pressure Before:  6.598278012275075\n",
      "Confidence Interval of Blood Pressure Before:  1.2932624904059147\n",
      "\n",
      "Mean of Blood Pressure After:  128.36\n",
      "Standard deviation of Blood Pressure After:  6.8880221025232276\n",
      "Confidence Interval of Blood Pressure After:  1.3500523320945526\n"
     ]
    },
    {
     "data": {
      "image/png": "[encoded data removed]",
      "text/plain": [
       "<Figure size 576x432 with 1 Axes>"
      ]
     },
     "metadata": {
      "needs_background": "light"
     },
     "output_type": "display_data"
    }
   ],
   "source": [
    "import numpy as np\n",
    "import matplotlib.pyplot as plt\n",
    "import seaborn as sns\n",
    "\n",
    "# Calculate the mean and confidence interval for 'Blood Pressure Before'\n",
    "mean_before = df[' Blood Pressure Before (mmHg)'].mean()\n",
    "std_before = df[' Blood Pressure Before (mmHg)'].std()\n",
    "n_before = len(df[' Blood Pressure Before (mmHg)'])\n",
    "ci_before = 1.96 * (std_before / np.sqrt(n_before))  # Assuming a large sample size for approximate normal distribution\n",
    "print(\"Mean of Blood Pressure Before: \", mean_before)\n",
    "print(\"Standard deviation of Blood Pressure Before: \", std_before)\n",
    "print(\"Confidence Interval of Blood Pressure Before: \", ci_before)\n",
    "print()\n",
    "# Calculate the mean and confidence interval for 'Blood Pressure After'\n",
    "mean_after = df[' Blood Pressure After (mmHg)'].mean()\n",
    "std_after = df[' Blood Pressure After (mmHg)'].std()\n",
    "n_after = len(df[' Blood Pressure After (mmHg)'])\n",
    "ci_after = 1.96 * (std_after / np.sqrt(n_after))  # Assuming a large sample size for approximate normal distribution\n",
    "print(\"Mean of Blood Pressure After: \", mean_after)\n",
    "print(\"Standard deviation of Blood Pressure After: \", std_after)\n",
    "print(\"Confidence Interval of Blood Pressure After: \", ci_after)\n",
    "\n",
    "# Plotting the means and confidence intervals\n",
    "plt.figure(figsize=(8, 6))\n",
    "sns.barplot(x=['Before', 'After'], y=[mean_before, mean_after], ci=95)\n",
    "plt.errorbar(x=['Before', 'After'], y=[mean_before, mean_after], yerr=[ci_before, ci_after], fmt='none', color='black')\n",
    "plt.xlabel('Condition')\n",
    "plt.ylabel('Mean Blood Pressure')\n",
    "plt.title('Mean Blood Pressure with 95% Confidence Interval')\n",
    "plt.show()\n"
   ]
  },
  {
   "cell_type": "markdown",
   "id": "588ac592",
   "metadata": {},
   "source": [
    "### (c.) ###"
   ]
  },
  {
   "cell_type": "code",
   "execution_count": 40,
   "id": "55acef71",
   "metadata": {},
   "outputs": [],
   "source": [
    "# Calculate the Mean Absolute Deviation (MAD)\n",
    "mad_before = df[' Blood Pressure Before (mmHg)'].mad()\n",
    "mad_after = df[' Blood Pressure After (mmHg)'].mad()"
   ]
  },
  {
   "cell_type": "code",
   "execution_count": 41,
   "id": "f8c1ad11",
   "metadata": {},
   "outputs": [],
   "source": [
    "# Calculate the Standard Deviation (SD)\n",
    "sd_before = df[' Blood Pressure Before (mmHg)'].std()\n",
    "sd_after = df[' Blood Pressure After (mmHg)'].std()"
   ]
  },
  {
   "cell_type": "code",
   "execution_count": 42,
   "id": "80d8a968",
   "metadata": {},
   "outputs": [
    {
     "name": "stdout",
     "output_type": "stream",
     "text": [
      "MAD of Blood Pressure Before: 5.7118\n",
      "MAD of Blood Pressure After: 5.9\n",
      "SD of Blood Pressure Before: 6.598278012275075\n",
      "SD of Blood Pressure After: 6.8880221025232276\n"
     ]
    }
   ],
   "source": [
    "print(\"MAD of Blood Pressure Before:\", mad_before)\n",
    "print(\"MAD of Blood Pressure After:\", mad_after)\n",
    "print(\"SD of Blood Pressure Before:\", sd_before)\n",
    "print(\"SD of Blood Pressure After:\", sd_after)"
   ]
  },
  {
   "cell_type": "markdown",
   "id": "a21fa768",
   "metadata": {},
   "source": [
    "### (d.) ###"
   ]
  },
  {
   "cell_type": "code",
   "execution_count": 44,
   "id": "167d9b4e",
   "metadata": {},
   "outputs": [
    {
     "name": "stdout",
     "output_type": "stream",
     "text": [
      "Correlation Coefficient: 0.9779485966556019\n",
      "p-value: 1.8097381433068541e-68\n"
     ]
    }
   ],
   "source": [
    "from scipy.stats import pearsonr\n",
    "\n",
    "# Calculate the correlation coefficient and p-value\n",
    "correlation_coefficient, p_value = pearsonr(df[' Blood Pressure Before (mmHg)'], df[' Blood Pressure After (mmHg)'])\n",
    "\n",
    "print(\"Correlation Coefficient:\", correlation_coefficient)\n",
    "print(\"p-value:\", p_value)\n"
   ]
  },
  {
   "cell_type": "code",
   "execution_count": null,
   "id": "8a5888e1",
   "metadata": {},
   "outputs": [],
   "source": []
  }
 ],
 "metadata": {
  "kernelspec": {
   "display_name": "Python 3 (ipykernel)",
   "language": "python",
   "name": "python3"
  },
  "language_info": {
   "codemirror_mode": {
    "name": "ipython",
    "version": 3
   },
   "file_extension": ".py",
   "mimetype": "text/x-python",
   "name": "python",
   "nbconvert_exporter": "python",
   "pygments_lexer": "ipython3",
   "version": "3.9.12"
  }
 },
 "nbformat": 4,
 "nbformat_minor": 5
}
