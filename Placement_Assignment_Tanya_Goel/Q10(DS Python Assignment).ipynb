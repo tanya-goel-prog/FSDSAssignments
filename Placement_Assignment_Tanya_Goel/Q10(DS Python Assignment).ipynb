{
 "cells": [
  {
   "cell_type": "markdown",
   "id": "8d8590ff",
   "metadata": {},
   "source": [
    "**Write a program to count the number of verbs, nouns, pronouns, and adjectives in a given particular phrase or\n",
    "paragraph, and return their respective count as a dictionary.\n",
    "Note -**\n",
    "1. Write code comments wherever required for code\n",
    "2. You have to write at least 2 additional test cases in which your program will run successfully and provide\n",
    "an explanation for the same.**"
   ]
  },
  {
   "cell_type": "code",
   "execution_count": 3,
   "id": "84c6f410",
   "metadata": {},
   "outputs": [
    {
     "name": "stderr",
     "output_type": "stream",
     "text": [
      "[nltk_data] Downloading package punkt to C:\\Users\\Dear\n",
      "[nltk_data]     Mamta\\AppData\\Roaming\\nltk_data...\n",
      "[nltk_data]   Package punkt is already up-to-date!\n",
      "[nltk_data] Downloading package averaged_perceptron_tagger to\n",
      "[nltk_data]     C:\\Users\\Dear Mamta\\AppData\\Roaming\\nltk_data...\n",
      "[nltk_data]   Unzipping taggers\\averaged_perceptron_tagger.zip.\n"
     ]
    },
    {
     "name": "stdout",
     "output_type": "stream",
     "text": [
      "defaultdict(<class 'int'>, {'pronouns': 1, 'verbs': 3, 'adjectives': 1, 'nouns': 3})\n"
     ]
    }
   ],
   "source": [
    "import nltk\n",
    "from nltk.tokenize import word_tokenize\n",
    "from nltk.tag import pos_tag\n",
    "from collections import defaultdict\n",
    "nltk.download('punkt')\n",
    "nltk.download('averaged_perceptron_tagger')\n",
    "\n",
    "def count_pos_tags(text):\n",
    "    tokens = word_tokenize(text)\n",
    "    tagged_tokens = pos_tag(tokens)\n",
    "\n",
    "    pos_counts = defaultdict(int)\n",
    "\n",
    "    for token, tag in tagged_tokens:\n",
    "        if tag.startswith('VB'):\n",
    "            pos_counts['verbs'] += 1\n",
    "        elif tag.startswith('NN'):\n",
    "            pos_counts['nouns'] += 1\n",
    "        elif tag.startswith('PRP'):\n",
    "            pos_counts['pronouns'] += 1\n",
    "        elif tag.startswith('JJ'):\n",
    "            pos_counts['adjectives'] += 1\n",
    "\n",
    "    return pos_counts\n",
    "\n",
    "# Test the function with a given phrase or paragraph\n",
    "text = \"I love eating delicious food. The cat chased the mouse.\"\n",
    "\n",
    "pos_counts = count_pos_tags(text)\n",
    "print(pos_counts)\n"
   ]
  },
  {
   "cell_type": "code",
   "execution_count": null,
   "id": "5b635889",
   "metadata": {},
   "outputs": [],
   "source": []
  }
 ],
 "metadata": {
  "kernelspec": {
   "display_name": "Python 3 (ipykernel)",
   "language": "python",
   "name": "python3"
  },
  "language_info": {
   "codemirror_mode": {
    "name": "ipython",
    "version": 3
   },
   "file_extension": ".py",
   "mimetype": "text/x-python",
   "name": "python",
   "nbconvert_exporter": "python",
   "pygments_lexer": "ipython3",
   "version": "3.9.12"
  }
 },
 "nbformat": 4,
 "nbformat_minor": 5
}
