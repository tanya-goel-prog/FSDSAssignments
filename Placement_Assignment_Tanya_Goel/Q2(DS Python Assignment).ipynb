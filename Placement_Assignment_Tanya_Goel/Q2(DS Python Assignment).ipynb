{
 "cells": [
  {
   "cell_type": "markdown",
   "id": "aa1dad63",
   "metadata": {},
   "source": [
    "**QUESTION2:** - Consider a string to be valid if all characters of the string appear the same number of times. It is also valid if he can remove just one character at the index in the string, and the remaining characters will occur the same number of times. Given a string, determine if it is valid. If so, return YES , otherwise return NO .\n",
    "\n",
    "**Note -** You have to write at least 2 additional test cases in which your program will run successfully and provide an explanation for the same.\n",
    "\n",
    "Example input 1 - s = “abc”. This is a valid string because frequencies are { “a”: 1, “b”: 1, “c”: 1 } Example output 1- YES\n",
    "\n",
    "Example input 2 - s “abcc”. This string is not valid as we can remove only 1 occurrence of “c”. That leaves character frequencies of { “a”: 1, “b”: 1 , “c”: 2 } Example output 2 - NO\n"
   ]
  },
  {
   "cell_type": "code",
   "execution_count": 5,
   "id": "0b030fe4",
   "metadata": {},
   "outputs": [],
   "source": [
    "def isValidString(s):\n",
    "    freq_count = {}  # Dictionary to store the frequencies of characters in the string\n",
    "    # Count the frequency of each character in the string\n",
    "    for char in s:\n",
    "        if char in freq_count:    # If the word is already in the dictionary\n",
    "            freq_count[char] += 1     # Increment its frequency by 1\n",
    "        else:    # If the word is not in the dictionary\n",
    "            freq_count[char] = 1     # Add it to the dictionary with a frequency of 1\n",
    "    freq_values = list(freq_count.values())  # List of frequency values\n",
    "\n",
    "    # Check if all frequencies are the same\n",
    "    if len(set(freq_values)) == 1:    #set have only distinct values\n",
    "        return \"YES\"\n",
    "\n",
    "    # Check if removing one character can make all frequencies the same\n",
    "    for i in range(len(freq_values)):\n",
    "        freq_values[i] -= 1    #removing one character from each frequency value\n",
    "\n",
    "        if len(set(freq_values)) == 1:   #Checking the valid string condition\n",
    "            return \"YES\"\n",
    "\n",
    "        freq_values[i] += 1    #Adding back that one character again if the condition doesnt satisfy\n",
    "\n",
    "    return \"NO\"\n",
    "\n",
    "\n"
   ]
  },
  {
   "cell_type": "code",
   "execution_count": 6,
   "id": "9ad475d6",
   "metadata": {},
   "outputs": [
    {
     "data": {
      "text/plain": [
       "'NO'"
      ]
     },
     "execution_count": 6,
     "metadata": {},
     "output_type": "execute_result"
    }
   ],
   "source": [
    "is_valid_string(\"abccc\")"
   ]
  },
  {
   "cell_type": "markdown",
   "id": "1f46bd70",
   "metadata": {},
   "source": [
    "**EXPLAINATION:** This string is not valid as we can remove only 1 occurrence of “c”. That leaves character frequencies of { “a”: 1, “b”: 1 , “c”: 2 }"
   ]
  },
  {
   "cell_type": "code",
   "execution_count": 7,
   "id": "42bd6d06",
   "metadata": {},
   "outputs": [
    {
     "data": {
      "text/plain": [
       "'YES'"
      ]
     },
     "execution_count": 7,
     "metadata": {},
     "output_type": "execute_result"
    }
   ],
   "source": [
    "is_valid_string(\"abc\")  "
   ]
  },
  {
   "cell_type": "markdown",
   "id": "eadb4242",
   "metadata": {},
   "source": [
    "**EXPLAINATION:**  This is a valid string because frequencies are { “a”: 1, “b”: 1, “c”: 1 }"
   ]
  }
 ],
 "metadata": {
  "kernelspec": {
   "display_name": "Python 3 (ipykernel)",
   "language": "python",
   "name": "python3"
  },
  "language_info": {
   "codemirror_mode": {
    "name": "ipython",
    "version": 3
   },
   "file_extension": ".py",
   "mimetype": "text/x-python",
   "name": "python",
   "nbconvert_exporter": "python",
   "pygments_lexer": "ipython3",
   "version": "3.9.12"
  }
 },
 "nbformat": 4,
 "nbformat_minor": 5
}
