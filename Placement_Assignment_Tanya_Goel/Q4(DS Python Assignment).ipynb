{
 "cells": [
  {
   "cell_type": "code",
   "execution_count": 2,
   "id": "5c1b1ca3",
   "metadata": {},
   "outputs": [
    {
     "name": "stdout",
     "output_type": "stream",
     "text": [
      "Data saved as nasa_data.csv\n"
     ]
    }
   ],
   "source": [
    "import requests\n",
    "import csv\n",
    "from datetime import datetime\n",
    "\n",
    "def download_data(url):\n",
    "    response = requests.get(url)\n",
    "    if response.status_code == 200:\n",
    "        return response.json()\n",
    "    else:\n",
    "        return None\n",
    "\n",
    "def convert_to_csv(data, filename):\n",
    "    if data is None:\n",
    "        print(\"Failed to download data.\")\n",
    "        return\n",
    "\n",
    "    # Define the CSV headers\n",
    "    headers = [\n",
    "        \"Name of Earth Meteorite\",\n",
    "        \"ID of Earth Meteorite\",\n",
    "        \"Meteorite Type\",\n",
    "        \"Recorded Class\",\n",
    "        \"Mass (g)\",\n",
    "        \"Year\",\n",
    "        \"Latitude\",\n",
    "        \"Longitude\"\n",
    "    ]\n",
    "\n",
    "    with open(filename, 'w', newline='', encoding='utf-8') as csvfile:\n",
    "        writer = csv.writer(csvfile)\n",
    "        writer.writerow(headers)\n",
    "\n",
    "        for item in data:\n",
    "            # Extract the required attributes from each item\n",
    "            name = item.get('name', '')\n",
    "            id = item.get('id', '')\n",
    "            type = item.get('nametype', '')\n",
    "            recclass = item.get('recclass', '')\n",
    "            mass = item.get('mass', '')\n",
    "            year = item.get('year', '')\n",
    "            reclat = item.get('reclat', '')\n",
    "            reclong = item.get('reclong', '')\n",
    "\n",
    "            # Convert year to datetime format\n",
    "            if year:\n",
    "                year = datetime.strptime(year, \"%Y-%m-%dT%H:%M:%S.%f\")\n",
    "\n",
    "            # Write the extracted data to the CSV file\n",
    "            writer.writerow([name, id, type, recclass, mass, year, reclat, reclong])\n",
    "\n",
    "    print(f\"Data saved as {filename}\")\n",
    "\n",
    "# Provide the URL to download the data from\n",
    "url = \"https://data.nasa.gov/resource/y77d-th95.json\"\n",
    "\n",
    "# Provide the filename for the CSV file\n",
    "filename = \"nasa_data.csv\"\n",
    "\n",
    "# Download the data\n",
    "data = download_data(url)\n",
    "\n",
    "# Convert the data to CSV format and save it\n",
    "convert_to_csv(data, filename)\n"
   ]
  },
  {
   "cell_type": "code",
   "execution_count": null,
   "id": "a506df8c",
   "metadata": {},
   "outputs": [],
   "source": []
  }
 ],
 "metadata": {
  "kernelspec": {
   "display_name": "Python 3 (ipykernel)",
   "language": "python",
   "name": "python3"
  },
  "language_info": {
   "codemirror_mode": {
    "name": "ipython",
    "version": 3
   },
   "file_extension": ".py",
   "mimetype": "text/x-python",
   "name": "python",
   "nbconvert_exporter": "python",
   "pygments_lexer": "ipython3",
   "version": "3.9.12"
  }
 },
 "nbformat": 4,
 "nbformat_minor": 5
}
